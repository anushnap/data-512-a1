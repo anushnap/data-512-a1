{
 "cells": [
  {
   "cell_type": "markdown",
   "metadata": {},
   "source": [
    "Anushna Prakash  \n",
    "DATA 512 - Human-Centered Data Science  \n",
    "October 5, 2021  \n",
    "# A1 - Data Curation"
   ]
  },
  {
   "cell_type": "code",
   "execution_count": 1,
   "metadata": {},
   "outputs": [
    {
     "data": {
      "text/html": [
       "<style>.container { width:60% !important; }</style>"
      ],
      "text/plain": [
       "<IPython.core.display.HTML object>"
      ]
     },
     "metadata": {},
     "output_type": "display_data"
    }
   ],
   "source": [
    "from IPython.core.display import display, HTML\n",
    "display(HTML(\"<style>.container { width:60% !important; }</style>\"))"
   ]
  },
  {
   "cell_type": "code",
   "execution_count": 2,
   "metadata": {},
   "outputs": [],
   "source": [
    "import json\n",
    "import requests\n",
    "import pandas as pd\n",
    "import numpy as np\n",
    "import matplotlib.pyplot as plt\n",
    "from datetime import date"
   ]
  },
  {
   "cell_type": "markdown",
   "metadata": {},
   "source": [
    "## Part I: Data Acquisition"
   ]
  },
  {
   "cell_type": "code",
   "execution_count": 3,
   "metadata": {},
   "outputs": [],
   "source": [
    "endpoint_legacy = 'https://wikimedia.org/api/rest_v1/metrics/legacy/pagecounts/aggregate/{project}/{access-site}/{granularity}/{start}/{end}'\n",
    "\n",
    "endpoint_pageviews = 'https://wikimedia.org/api/rest_v1/metrics/pageviews/aggregate/{project}/{access}/{agent}/{granularity}/{start}/{end}'"
   ]
  },
  {
   "cell_type": "code",
   "execution_count": 4,
   "metadata": {},
   "outputs": [],
   "source": [
    "# Use first of September to get complete data thru August 1, 2021\n",
    "end_date = '20210901' + '00'\n",
    "\n",
    "params_legacy_desktop = {\n",
    "    \"project\" : \"en.wikipedia.org\",\n",
    "    \"access-site\" : \"desktop-site\",\n",
    "    \"granularity\" : \"monthly\",\n",
    "    \"start\" : \"2001010100\",\n",
    "    # for end use 1st day of month following final month of data\n",
    "    \"end\" : end_date\n",
    "}\n",
    "\n",
    "params_legacy_mobile = {\n",
    "    \"project\" : \"en.wikipedia.org\",\n",
    "    \"access-site\" : \"mobile-site\",\n",
    "    \"granularity\" : \"monthly\",\n",
    "    \"start\" : \"2001010100\",\n",
    "    # for end use 1st day of month following final month of data\n",
    "    \"end\" : end_date\n",
    "}\n",
    "\n",
    "params_pageviews_desktop = {\n",
    "    \"project\" : \"en.wikipedia.org\",\n",
    "    \"access\" : \"desktop\",\n",
    "    \"agent\" : \"user\",\n",
    "    \"granularity\" : \"monthly\",\n",
    "    \"start\" : \"2001010100\",\n",
    "    # for end use 1st day of month following final month of data\n",
    "    \"end\" : end_date\n",
    "}\n",
    "\n",
    "params_pageviews_app = {\n",
    "    \"project\" : \"en.wikipedia.org\",\n",
    "    \"access\" : \"mobile-app\",\n",
    "    \"agent\" : \"user\",\n",
    "    \"granularity\" : \"monthly\",\n",
    "    \"start\" : \"2001010100\",\n",
    "    # for end use 1st day of month following final month of data\n",
    "    \"end\" : end_date\n",
    "}\n",
    "\n",
    "params_pageviews_mobileweb = {\n",
    "    \"project\" : \"en.wikipedia.org\",\n",
    "    \"access\" : \"mobile-web\",\n",
    "    \"agent\" : \"user\",\n",
    "    \"granularity\" : \"monthly\",\n",
    "    \"start\" : \"2001010100\",\n",
    "    # for end use 1st day of month following final month of data\n",
    "    \"end\" : end_date\n",
    "}\n",
    "\n",
    "headers = {\n",
    "    'User-Agent': 'https://github.com/anushnap',\n",
    "    'From': 'anushnap@uw.edu'\n",
    "}"
   ]
  },
  {
   "cell_type": "code",
   "execution_count": 5,
   "metadata": {},
   "outputs": [],
   "source": [
    "def api_call(endpoint,parameters):\n",
    "    call = requests.get(endpoint.format(**parameters), headers=headers)\n",
    "    response = call.json()\n",
    "    \n",
    "    return response"
   ]
  },
  {
   "cell_type": "code",
   "execution_count": 6,
   "metadata": {},
   "outputs": [],
   "source": [
    "legacy_monthly_pageviews_desktop = api_call(endpoint_legacy, params_legacy_desktop)\n",
    "legacy_monthly_pageviews_mobile = api_call(endpoint_legacy, params_legacy_mobile)\n",
    "pageviews_monthly_pageviews_desktop = api_call(endpoint_pageviews, params_pageviews_desktop)\n",
    "pageviews_monthly_pageviews_app = api_call(endpoint_pageviews, params_pageviews_app)\n",
    "pageviews_monthly_pageviews_mobileweb = api_call(endpoint_pageviews, params_pageviews_mobileweb)"
   ]
  },
  {
   "cell_type": "code",
   "execution_count": 8,
   "metadata": {},
   "outputs": [],
   "source": [
    "with open('./data_raw/legacy_desktop-site_200712-201607.json', 'w', encoding='utf-8') as f:\n",
    "    json.dump(legacy_monthly_pageviews_desktop, f, ensure_ascii = False, indent=4)\n",
    "\n",
    "with open('./data_raw/legacy_mobile-site_200712-201607.json', 'w', encoding='utf-8') as f:\n",
    "    json.dump(legacy_monthly_pageviews_mobile, f, ensure_ascii = False, indent=4)\n",
    "\n",
    "with open('./data_raw/pagecounts_desktop-site_200712-202108.json', 'w', encoding='utf-8') as f:\n",
    "    json.dump(pageviews_monthly_pageviews_desktop, f, ensure_ascii = False, indent=4)\n",
    "\n",
    "with open('./data_raw/pagecounts_mobile-web_200712-202108.json', 'w', encoding='utf-8') as f:\n",
    "    json.dump(pageviews_monthly_pageviews_mobileweb, f, ensure_ascii = False, indent=4)\n",
    "\n",
    "with open('./data_raw/pagecounts_mobile-app_200712-202108.json', 'w', encoding='utf-8') as f:\n",
    "    json.dump(pageviews_monthly_pageviews_app, f, ensure_ascii = False, indent=4)"
   ]
  },
  {
   "cell_type": "markdown",
   "metadata": {},
   "source": [
    "## Part 2: Data Processing"
   ]
  },
  {
   "cell_type": "code",
   "execution_count": 14,
   "metadata": {},
   "outputs": [
    {
     "name": "stdout",
     "output_type": "stream",
     "text": [
      "<class 'pandas.core.frame.DataFrame'>\n",
      "RangeIndex: 105 entries, 0 to 104\n",
      "Data columns (total 3 columns):\n",
      " #   Column  Non-Null Count  Dtype\n",
      "---  ------  --------------  -----\n",
      " 0   year    105 non-null    int64\n",
      " 1   month   105 non-null    int64\n",
      " 2   count   105 non-null    int64\n",
      "dtypes: int64(3)\n",
      "memory usage: 2.6 KB\n",
      "None\n"
     ]
    }
   ],
   "source": [
    "def clean_df(df):\n",
    "    df['year'] = df['timestamp'].str.slice(start = 0, stop = 4).astype(int)\n",
    "    df['month'] = df['timestamp'].str.slice(start = 4, stop = 6).astype(int)\n",
    "    return df[['year', 'month', 'count']]\n",
    "\n",
    "df_desktop = clean_df(pd.json_normalize(legacy_monthly_pageviews_desktop['items'])) \n",
    "# df_desktop = clean_df(df_desktop)\n",
    "print(df_desktop.info())\n",
    "df_mobile = clean_df(pd.json_normalize(legacy_monthly_pageviews_mobile['items']))"
   ]
  },
  {
   "cell_type": "code",
   "execution_count": 21,
   "metadata": {},
   "outputs": [],
   "source": [
    "df = df_desktop.merge(df_mobile, how = 'left', on = ['year', 'month']).rename(columns = {'count_x': 'pagecounts_desktop_views', 'count_y': 'pagecounts_mobile_views'})"
   ]
  },
  {
   "cell_type": "code",
   "execution_count": 25,
   "metadata": {},
   "outputs": [
    {
     "data": {
      "text/html": [
       "<div>\n",
       "<style scoped>\n",
       "    .dataframe tbody tr th:only-of-type {\n",
       "        vertical-align: middle;\n",
       "    }\n",
       "\n",
       "    .dataframe tbody tr th {\n",
       "        vertical-align: top;\n",
       "    }\n",
       "\n",
       "    .dataframe thead th {\n",
       "        text-align: right;\n",
       "    }\n",
       "</style>\n",
       "<table border=\"1\" class=\"dataframe\">\n",
       "  <thead>\n",
       "    <tr style=\"text-align: right;\">\n",
       "      <th></th>\n",
       "      <th>year</th>\n",
       "      <th>month</th>\n",
       "      <th>pagecounts_desktop_views</th>\n",
       "      <th>pagecounts_mobile_views</th>\n",
       "    </tr>\n",
       "  </thead>\n",
       "  <tbody>\n",
       "    <tr>\n",
       "      <th>0</th>\n",
       "      <td>2007</td>\n",
       "      <td>12</td>\n",
       "      <td>2998331524</td>\n",
       "      <td>0.000000e+00</td>\n",
       "    </tr>\n",
       "    <tr>\n",
       "      <th>1</th>\n",
       "      <td>2008</td>\n",
       "      <td>1</td>\n",
       "      <td>4930902570</td>\n",
       "      <td>0.000000e+00</td>\n",
       "    </tr>\n",
       "    <tr>\n",
       "      <th>2</th>\n",
       "      <td>2008</td>\n",
       "      <td>2</td>\n",
       "      <td>4818393763</td>\n",
       "      <td>0.000000e+00</td>\n",
       "    </tr>\n",
       "    <tr>\n",
       "      <th>3</th>\n",
       "      <td>2008</td>\n",
       "      <td>3</td>\n",
       "      <td>4955405809</td>\n",
       "      <td>0.000000e+00</td>\n",
       "    </tr>\n",
       "    <tr>\n",
       "      <th>4</th>\n",
       "      <td>2008</td>\n",
       "      <td>4</td>\n",
       "      <td>5159162183</td>\n",
       "      <td>0.000000e+00</td>\n",
       "    </tr>\n",
       "    <tr>\n",
       "      <th>...</th>\n",
       "      <td>...</td>\n",
       "      <td>...</td>\n",
       "      <td>...</td>\n",
       "      <td>...</td>\n",
       "    </tr>\n",
       "    <tr>\n",
       "      <th>100</th>\n",
       "      <td>2016</td>\n",
       "      <td>4</td>\n",
       "      <td>5572235399</td>\n",
       "      <td>3.301385e+09</td>\n",
       "    </tr>\n",
       "    <tr>\n",
       "      <th>101</th>\n",
       "      <td>2016</td>\n",
       "      <td>5</td>\n",
       "      <td>5330532334</td>\n",
       "      <td>3.418436e+09</td>\n",
       "    </tr>\n",
       "    <tr>\n",
       "      <th>102</th>\n",
       "      <td>2016</td>\n",
       "      <td>6</td>\n",
       "      <td>4975092447</td>\n",
       "      <td>3.372618e+09</td>\n",
       "    </tr>\n",
       "    <tr>\n",
       "      <th>103</th>\n",
       "      <td>2016</td>\n",
       "      <td>7</td>\n",
       "      <td>5363966439</td>\n",
       "      <td>3.500661e+09</td>\n",
       "    </tr>\n",
       "    <tr>\n",
       "      <th>104</th>\n",
       "      <td>2016</td>\n",
       "      <td>8</td>\n",
       "      <td>913675893</td>\n",
       "      <td>4.800413e+08</td>\n",
       "    </tr>\n",
       "  </tbody>\n",
       "</table>\n",
       "<p>105 rows × 4 columns</p>\n",
       "</div>"
      ],
      "text/plain": [
       "     year  month  pagecounts_desktop_views  pagecounts_mobile_views\n",
       "0    2007     12                2998331524             0.000000e+00\n",
       "1    2008      1                4930902570             0.000000e+00\n",
       "2    2008      2                4818393763             0.000000e+00\n",
       "3    2008      3                4955405809             0.000000e+00\n",
       "4    2008      4                5159162183             0.000000e+00\n",
       "..    ...    ...                       ...                      ...\n",
       "100  2016      4                5572235399             3.301385e+09\n",
       "101  2016      5                5330532334             3.418436e+09\n",
       "102  2016      6                4975092447             3.372618e+09\n",
       "103  2016      7                5363966439             3.500661e+09\n",
       "104  2016      8                 913675893             4.800413e+08\n",
       "\n",
       "[105 rows x 4 columns]"
      ]
     },
     "execution_count": 25,
     "metadata": {},
     "output_type": "execute_result"
    }
   ],
   "source": [
    "df.fillna(0, inplace = True)\n",
    "df"
   ]
  }
 ],
 "metadata": {
  "kernelspec": {
   "display_name": "Python 3",
   "language": "python",
   "name": "python3"
  },
  "language_info": {
   "codemirror_mode": {
    "name": "ipython",
    "version": 3
   },
   "file_extension": ".py",
   "mimetype": "text/x-python",
   "name": "python",
   "nbconvert_exporter": "python",
   "pygments_lexer": "ipython3",
   "version": "3.8.5"
  }
 },
 "nbformat": 4,
 "nbformat_minor": 4
}
