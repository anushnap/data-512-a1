{
 "cells": [
  {
   "cell_type": "markdown",
   "metadata": {},
   "source": [
    "Anushna Prakash  \n",
    "DATA 512 - Human-Centered Data Science  \n",
    "October 5, 2021  \n",
    "# A1 - Data Curation"
   ]
  },
  {
   "cell_type": "code",
   "execution_count": 6,
   "metadata": {},
   "outputs": [
    {
     "data": {
      "text/html": [
       "<style>.container { width:60% !important; }</style>"
      ],
      "text/plain": [
       "<IPython.core.display.HTML object>"
      ]
     },
     "metadata": {},
     "output_type": "display_data"
    }
   ],
   "source": [
    "from IPython.core.display import display, HTML\n",
    "display(HTML(\"<style>.container { width:60% !important; }</style>\"))"
   ]
  },
  {
   "cell_type": "code",
   "execution_count": 18,
   "metadata": {},
   "outputs": [],
   "source": [
    "import json\n",
    "import requests\n",
    "import pandas as pd\n",
    "import numpy as np\n",
    "import matplotlib.pyplot as plt\n",
    "from datetime import date"
   ]
  },
  {
   "cell_type": "code",
   "execution_count": 9,
   "metadata": {},
   "outputs": [],
   "source": [
    "endpoint_legacy = 'https://wikimedia.org/api/rest_v1/metrics/legacy/pagecounts/aggregate/{project}/{access-site}/{granularity}/{start}/{end}'\n",
    "\n",
    "endpoint_pageviews = 'https://wikimedia.org/api/rest_v1/metrics/pageviews/aggregate/{project}/{access}/{agent}/{granularity}/{start}/{end}'"
   ]
  },
  {
   "cell_type": "code",
   "execution_count": 38,
   "metadata": {},
   "outputs": [],
   "source": [
    "# Use first of September to get complete data thru August 1, 2021\n",
    "end_date = '20210901' + '00'\n",
    "\n",
    "params_legacy_desktop = {\n",
    "    \"project\" : \"en.wikipedia.org\",\n",
    "    \"access-site\" : \"desktop-site\",\n",
    "    \"granularity\" : \"monthly\",\n",
    "    \"start\" : \"2001010100\",\n",
    "    # for end use 1st day of month following final month of data\n",
    "    \"end\" : end_date\n",
    "}\n",
    "\n",
    "params_legacy_mobile = {\n",
    "    \"project\" : \"en.wikipedia.org\",\n",
    "    \"access-site\" : \"mobile-site\",\n",
    "    \"granularity\" : \"monthly\",\n",
    "    \"start\" : \"2001010100\",\n",
    "    # for end use 1st day of month following final month of data\n",
    "    \"end\" : end_date\n",
    "}\n",
    "\n",
    "params_pageviews_desktop = {\n",
    "    \"project\" : \"en.wikipedia.org\",\n",
    "    \"access\" : \"desktop\",\n",
    "    \"agent\" : \"user\",\n",
    "    \"granularity\" : \"monthly\",\n",
    "    \"start\" : \"2001010100\",\n",
    "    # for end use 1st day of month following final month of data\n",
    "    \"end\" : end_date\n",
    "}\n",
    "\n",
    "params_pageviews_app = {\n",
    "    \"project\" : \"en.wikipedia.org\",\n",
    "    \"access\" : \"mobile-app\",\n",
    "    \"agent\" : \"user\",\n",
    "    \"granularity\" : \"monthly\",\n",
    "    \"start\" : \"2001010100\",\n",
    "    # for end use 1st day of month following final month of data\n",
    "    \"end\" : end_date\n",
    "}\n",
    "\n",
    "params_pageviews_mobileweb = {\n",
    "    \"project\" : \"en.wikipedia.org\",\n",
    "    \"access\" : \"mobile-web\",\n",
    "    \"agent\" : \"user\",\n",
    "    \"granularity\" : \"monthly\",\n",
    "    \"start\" : \"2001010100\",\n",
    "    # for end use 1st day of month following final month of data\n",
    "    \"end\" : end_date\n",
    "}"
   ]
  },
  {
   "cell_type": "code",
   "execution_count": 39,
   "metadata": {},
   "outputs": [],
   "source": [
    "def api_call(endpoint,parameters):\n",
    "    call = requests.get(endpoint.format(**parameters), headers=headers)\n",
    "    response = call.json()\n",
    "    \n",
    "    return response"
   ]
  },
  {
   "cell_type": "code",
   "execution_count": 47,
   "metadata": {},
   "outputs": [],
   "source": [
    "legacy_monthly_pageviews_desktop = api_call(endpoint_legacy, params_legacy_desktop)\n",
    "legacy_monthly_pageviews_mobile = api_call(endpoint_legacy, params_legacy_mobile)\n",
    "pagecounts_monthly_pageviews_desktop = api_call(endpoint_pageviews, params_pageviews_desktop)\n",
    "pagecounts_monthly_pageviews_app = api_call(endpoint_pageviews, params_pageviews_app)\n",
    "pagecounts_monthly_pageviews_mobileweb = api_call(endpoint_pageviews, params_pageviews_mobileweb)"
   ]
  },
  {
   "cell_type": "code",
   "execution_count": 49,
   "metadata": {},
   "outputs": [],
   "source": [
    "with open('./data_raw/legacy_desktop-site_200712-201607.json', 'w', encoding='utf-8') as f:\n",
    "    json.dump(legacy_monthly_pageviews_desktop, f, ensure_ascii = False, indent=4)\n",
    "\n",
    "with open('./data_raw/legacy_mobile-site_200712-201607.json', 'w', encoding='utf-8') as f:\n",
    "    json.dump(legacy_monthly_pageviews_mobile, f, ensure_ascii = False, indent=4)\n",
    "\n",
    "with open('./data_raw/pagecounts_desktop-site_200712-202108.json', 'w', encoding='utf-8') as f:\n",
    "    json.dump(pagecounts_monthly_pageviews_desktop, f, ensure_ascii = False, indent=4)\n",
    "\n",
    "with open('./data_raw/pagecounts_mobile-web_200712-202108.json', 'w', encoding='utf-8') as f:\n",
    "    json.dump(pagecounts_monthly_pageviews_mobileweb, f, ensure_ascii = False, indent=4)\n",
    "\n",
    "with open('./data_raw/pagecounts_mobile-app_200712-202108.json', 'w', encoding='utf-8') as f:\n",
    "    json.dump(pagecounts_monthly_pageviews_app, f, ensure_ascii = False, indent=4)"
   ]
  },
  {
   "cell_type": "code",
   "execution_count": 35,
   "metadata": {},
   "outputs": [],
   "source": []
  },
  {
   "cell_type": "code",
   "execution_count": 36,
   "metadata": {},
   "outputs": [
    {
     "name": "stdout",
     "output_type": "stream",
     "text": [
      "'A1 - Data Curation.ipynb'   data_raw\r\n"
     ]
    }
   ],
   "source": []
  }
 ],
 "metadata": {
  "kernelspec": {
   "display_name": "Python 3",
   "language": "python",
   "name": "python3"
  },
  "language_info": {
   "codemirror_mode": {
    "name": "ipython",
    "version": 3
   },
   "file_extension": ".py",
   "mimetype": "text/x-python",
   "name": "python",
   "nbconvert_exporter": "python",
   "pygments_lexer": "ipython3",
   "version": "3.8.5"
  }
 },
 "nbformat": 4,
 "nbformat_minor": 4
}
