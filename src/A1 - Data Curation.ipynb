{
 "cells": [
  {
   "cell_type": "markdown",
   "metadata": {},
   "source": [
    "Anushna Prakash  \n",
    "DATA 512 - Human-Centered Data Science  \n",
    "October 5, 2021  \n",
    "# A1 - Data Curation"
   ]
  },
  {
   "cell_type": "markdown",
   "metadata": {},
   "source": [
    "# Step 0: Set Up\n",
    "\n",
    "This is the version of Python used in this project."
   ]
  },
  {
   "cell_type": "code",
   "execution_count": 1,
   "metadata": {},
   "outputs": [
    {
     "name": "stdout",
     "output_type": "stream",
     "text": [
      "Python 3.8.5\r\n"
     ]
    }
   ],
   "source": [
    "!python --version"
   ]
  },
  {
   "cell_type": "markdown",
   "metadata": {},
   "source": [
    "Increasing the width of my notebook cells to fill up more space. This step is optional."
   ]
  },
  {
   "cell_type": "code",
   "execution_count": 2,
   "metadata": {},
   "outputs": [
    {
     "data": {
      "text/html": [
       "<style>.container { width:60% !important; }</style>"
      ],
      "text/plain": [
       "<IPython.core.display.HTML object>"
      ]
     },
     "metadata": {},
     "output_type": "display_data"
    }
   ],
   "source": [
    "from IPython.core.display import display, HTML\n",
    "display(HTML(\"<style>.container { width:60% !important; }</style>\"))"
   ]
  },
  {
   "cell_type": "markdown",
   "metadata": {},
   "source": [
    "All of the necessary packages are imported here."
   ]
  },
  {
   "cell_type": "code",
   "execution_count": 3,
   "metadata": {},
   "outputs": [],
   "source": [
    "import json\n",
    "import requests\n",
    "import pandas as pd\n",
    "import numpy as np\n",
    "import matplotlib.pyplot as plt\n",
    "from datetime import date"
   ]
  },
  {
   "cell_type": "markdown",
   "metadata": {},
   "source": [
    "## Part I: Data Acquisition\n",
    "\n",
    "Using the Wikimedia foundation APIs and following some of the code [documented here](https://public.paws.wmcloud.org/User:Jtmorgan/data512_a1_example.ipynb) to pull page views data from this API, I am pulling all available pageviews from the beginning of the series. The dates in the API calls are very wide and exceed the dates where there is actually data in the API - this is to ensure we capture all of the data up through the end of August, 2021.  \n",
    "\n",
    "Additionally, there are two APIs through which I pull the data. Please see the `README.md` file in this repository for more detail.  \n",
    "\n",
    "I pull page views data for each access mode: desktop, mobile-web, mobile-app, where available to get more granularity at the monthly level. For the newer API, there is an ability to filter out page views from bots and crawlers, which is filtered out."
   ]
  },
  {
   "cell_type": "code",
   "execution_count": 4,
   "metadata": {},
   "outputs": [],
   "source": [
    "endpoint_legacy = 'https://wikimedia.org/api/rest_v1/metrics/legacy/pagecounts/aggregate/{project}/{access-site}/{granularity}/{start}/{end}'\n",
    "\n",
    "endpoint_pageviews = 'https://wikimedia.org/api/rest_v1/metrics/pageviews/aggregate/{project}/{access}/{agent}/{granularity}/{start}/{end}'"
   ]
  },
  {
   "cell_type": "code",
   "execution_count": 5,
   "metadata": {},
   "outputs": [],
   "source": [
    "# Use first of September to get complete data thru August 31, 2021. Change this to include newer data.\n",
    "end_date = '20210901' + '00'\n",
    "# Pulling data only from English Wikipedia\n",
    "proj = 'en.wikipedia.org'\n",
    "\n",
    "# API calls\n",
    "params_legacy_desktop = {\n",
    "    \"project\" : proj,\n",
    "    \"access-site\" : \"desktop-site\",\n",
    "    \"granularity\" : \"monthly\",\n",
    "    \"start\" : \"2001010100\",\n",
    "    \"end\" : end_date\n",
    "}\n",
    "\n",
    "params_legacy_mobile = {\n",
    "    \"project\" : \"en.wikipedia.org\",\n",
    "    \"access-site\" : \"mobile-site\",\n",
    "    \"granularity\" : \"monthly\",\n",
    "    \"start\" : \"2001010100\",\n",
    "    \"end\" : end_date\n",
    "}\n",
    "\n",
    "params_pageviews_desktop = {\n",
    "    \"project\" : proj,\n",
    "    \"access\" : \"desktop\",\n",
    "    # Agent: User filters out bots and crawlers\n",
    "    \"agent\" : \"user\",\n",
    "    \"granularity\" : \"monthly\",\n",
    "    \"start\" : \"2001010100\",\n",
    "    \"end\" : end_date\n",
    "}\n",
    "\n",
    "params_pageviews_app = {\n",
    "    \"project\" : proj,\n",
    "    \"access\" : \"mobile-app\",\n",
    "    # Agent: User filters out bots and crawlers\n",
    "    \"agent\" : \"user\",\n",
    "    \"granularity\" : \"monthly\",\n",
    "    \"start\" : \"2001010100\",\n",
    "    \"end\" : end_date\n",
    "}\n",
    "\n",
    "params_pageviews_mobileweb = {\n",
    "    \"project\" : proj,\n",
    "    \"access\" : \"mobile-web\",\n",
    "    # Agent: User filters out bots and crawlers\n",
    "    \"agent\" : \"user\",\n",
    "    \"granularity\" : \"monthly\",\n",
    "    \"start\" : \"2001010100\",\n",
    "    \"end\" : end_date\n",
    "}\n",
    "\n",
    "# Fill with your own information if reproducing\n",
    "headers = {\n",
    "    'User-Agent': 'https://github.com/anushnap',\n",
    "    'From': 'anushnap@uw.edu'\n",
    "}\n",
    "\n",
    "# Function is from sample API code linked above.\n",
    "def api_call(endpoint,parameters):\n",
    "    call = requests.get(endpoint.format(**parameters), headers=headers)\n",
    "    response = call.json()\n",
    "    \n",
    "    return response"
   ]
  },
  {
   "cell_type": "markdown",
   "metadata": {},
   "source": [
    "Each type of page views data, pulled from the Pagecounts (legacy) and Pageviews API is pulled separately and saved as its own `.json` file in `./data_raw/` with no processing or cleaning performed on it.  "
   ]
  },
  {
   "cell_type": "code",
   "execution_count": 6,
   "metadata": {},
   "outputs": [],
   "source": [
    "# Pull the data from appropriate API\n",
    "legacy_monthly_pageviews_desktop = api_call(endpoint_legacy, params_legacy_desktop)\n",
    "legacy_monthly_pageviews_mobile = api_call(endpoint_legacy, params_legacy_mobile)\n",
    "pageviews_monthly_pageviews_desktop = api_call(endpoint_pageviews, params_pageviews_desktop)\n",
    "pageviews_monthly_pageviews_app = api_call(endpoint_pageviews, params_pageviews_app)\n",
    "pageviews_monthly_pageviews_mobileweb = api_call(endpoint_pageviews, params_pageviews_mobileweb)"
   ]
  },
  {
   "cell_type": "code",
   "execution_count": 7,
   "metadata": {},
   "outputs": [],
   "source": [
    "# Save each file as its own .json file in the ./data_raw/ folder.\n",
    "with open('./data_raw/legacy_desktop-site_200712-201607.json', 'w', encoding='utf-8') as f:\n",
    "    json.dump(legacy_monthly_pageviews_desktop, f, ensure_ascii = False, indent=4)\n",
    "\n",
    "with open('./data_raw/legacy_mobile-site_200712-201607.json', 'w', encoding='utf-8') as f:\n",
    "    json.dump(legacy_monthly_pageviews_mobile, f, ensure_ascii = False, indent=4)\n",
    "\n",
    "with open('./data_raw/pagecounts_desktop-site_200712-202108.json', 'w', encoding='utf-8') as f:\n",
    "    json.dump(pageviews_monthly_pageviews_desktop, f, ensure_ascii = False, indent=4)\n",
    "\n",
    "with open('./data_raw/pagecounts_mobile-web_200712-202108.json', 'w', encoding='utf-8') as f:\n",
    "    json.dump(pageviews_monthly_pageviews_mobileweb, f, ensure_ascii = False, indent=4)\n",
    "\n",
    "with open('./data_raw/pagecounts_mobile-app_200712-202108.json', 'w', encoding='utf-8') as f:\n",
    "    json.dump(pageviews_monthly_pageviews_app, f, ensure_ascii = False, indent=4)"
   ]
  },
  {
   "cell_type": "markdown",
   "metadata": {},
   "source": [
    "## Part 2: Data Processing  \n",
    "Each API call is saved into its own `pandas` dataframe and processed such that the timestamps, which are saved as `YYYYMMDDHH` are split into two columns, one for `year` as an `int` and one for `month`, also as an int. The `count` column refers to the number of views from that particular access method in the legacy API results, and is called the `views` column in the pageviews API results.  \n",
    "\n",
    "Additional columns returned in the call such as `granularity` and `project` are deleted because they contain redundant information. Each dataframe will have the same granularity (monthly) and project (en.wikipedia.org).  \n",
    "\n",
    "I produce a dataframe for the combined results of the legacy API calls with a column for each access methods' views. These are named to follow the format `apiname_access-method_views`. \n",
    "Please note that mobile views were not available for the entire history of the legacy API series, and so it does not exist before October 2014. I want to keep the full series of data for plotting and calculating total views regardless of access method. I follow a similar method for the Pageviews API calls. The data is cleaned of any `np.nan` or `null` values and replaced with `0`. Each API's access methods are summed together to create a column that has the combined views from all access methods. For the legacy API, this is called `pagecounts_all_views` and for the Pageviews API, this is called `pageviews_all_views`. "
   ]
  },
  {
   "cell_type": "code",
   "execution_count": 8,
   "metadata": {},
   "outputs": [
    {
     "name": "stdout",
     "output_type": "stream",
     "text": [
      "<class 'pandas.core.frame.DataFrame'>\n",
      "RangeIndex: 105 entries, 0 to 104\n",
      "Data columns (total 3 columns):\n",
      " #   Column  Non-Null Count  Dtype\n",
      "---  ------  --------------  -----\n",
      " 0   year    105 non-null    int64\n",
      " 1   month   105 non-null    int64\n",
      " 2   count   105 non-null    int64\n",
      "dtypes: int64(3)\n",
      "memory usage: 2.6 KB\n",
      "None\n",
      "<class 'pandas.core.frame.DataFrame'>\n",
      "RangeIndex: 23 entries, 0 to 22\n",
      "Data columns (total 3 columns):\n",
      " #   Column  Non-Null Count  Dtype\n",
      "---  ------  --------------  -----\n",
      " 0   year    23 non-null     int64\n",
      " 1   month   23 non-null     int64\n",
      " 2   count   23 non-null     int64\n",
      "dtypes: int64(3)\n",
      "memory usage: 680.0 bytes\n",
      "None\n"
     ]
    }
   ],
   "source": [
    "# Convert the timestamp to a year column and month column and return only those and the counts column\n",
    "# in a dataframe.\n",
    "def clean_legacy(df):\n",
    "    df['year'] = df['timestamp'].str.slice(start = 0, stop = 4).astype(int)\n",
    "    df['month'] = df['timestamp'].str.slice(start = 4, stop = 6).astype(int)\n",
    "    return df[['year', 'month', 'count']]\n",
    "\n",
    "# Process legacy API results\n",
    "leg_desktop = clean_legacy(pd.json_normalize(legacy_monthly_pageviews_desktop['items'])) \n",
    "leg_mobile = clean_legacy(pd.json_normalize(legacy_monthly_pageviews_mobile['items']))\n",
    "\n",
    "print(leg_desktop.info())\n",
    "print(leg_mobile.info())"
   ]
  },
  {
   "cell_type": "code",
   "execution_count": null,
   "metadata": {},
   "outputs": [],
   "source": [
    "# Joins the two legacy access methods into one dataframe with column for each access methods' views\n",
    "df_legacy = leg_desktop.merge(leg_mobile, how = 'left', on = ['year', 'month'])\\\n",
    "    .rename(columns = {'count_x': 'pagecounts_desktop_views', 'count_y': 'pagecounts_mobile_views'})\n",
    "\n",
    "# Replace nulls with 0\n",
    "df_legacy.fillna(0, inplace = True)\n",
    "# Create a new column of the sum of views from each access method\n",
    "df_legacy['pagecounts_all_views'] = df_legacy['pagecounts_desktop_views'] + df_legacy['pagecounts_mobile_views']"
   ]
  },
  {
   "cell_type": "code",
   "execution_count": null,
   "metadata": {},
   "outputs": [],
   "source": [
    "# Convert the timestamp to a year column and month column and return only those and the views column\n",
    "# in a dataframe.\n",
    "def clean_pageviews(df):\n",
    "    df['year'] = df['timestamp'].str.slice(start = 0, stop = 4).astype(int)\n",
    "    df['month'] = df['timestamp'].str.slice(start = 4, stop = 6).astype(int)\n",
    "    return df[['year', 'month', 'views']]\n",
    "\n",
    "# Process API results\n",
    "df_desktop = clean_pageviews(pd.json_normalize(pageviews_monthly_pageviews_desktop['items']))\n",
    "df_mobile_web = clean_pageviews(pd.json_normalize(pageviews_monthly_pageviews_mobileweb['items']))\n",
    "df_mobile_app = clean_pageviews(pd.json_normalize(pageviews_monthly_pageviews_app['items']))"
   ]
  },
  {
   "cell_type": "code",
   "execution_count": null,
   "metadata": {},
   "outputs": [],
   "source": [
    "# Joins the three legacy access methods into one dataframe with a column for each access methods' views\n",
    "df_pageviews = df_desktop.merge(df_mobile_web, how = 'outer', on = ['year', 'month'])\\\n",
    "    .rename(columns = {'views_x': 'pageviews_desktop_views', 'views_y': 'pageviews_mobile_web'})\\\n",
    "    .merge(df_mobile_app, how = 'outer', on = ['year', 'month'])\\\n",
    "    .rename(columns = {'views': 'pageviews_mobile_app'})\n",
    "\n",
    "# Replace nulls with 0\n",
    "df_pageviews.fillna(0, inplace = True)\n",
    "# Create a column for just mobile views\n",
    "df_pageviews['pageviews_mobile_views'] = df_pageviews['pageviews_mobile_web'] + df_pageviews['pageviews_mobile_app']\n",
    "# Create a column for all views regardless of access method\n",
    "df_pageviews['pageviews_all_views'] = df_pageviews['pageviews_mobile_views'] + df_pageviews['pageviews_desktop_views']\n",
    "\n",
    "# Remove the columns for each individual mobile access method and only keep the aggregate column\n",
    "df_pageviews = df_pageviews[['year', 'month', 'pageviews_desktop_views', 'pageviews_mobile_views', 'pageviews_all_views']]"
   ]
  },
  {
   "cell_type": "code",
   "execution_count": null,
   "metadata": {},
   "outputs": [],
   "source": [
    "# Join the legacy and Pageviews APi results, keeping all months of data\n",
    "df = df_legacy.merge(df_pageviews, how = 'outer', on = ['year', 'month'])\n",
    "# Replace nulls with 0\n",
    "df.fillna(0, inplace = True)"
   ]
  },
  {
   "cell_type": "markdown",
   "metadata": {},
   "source": [
    "Data is saved into the `./data_clean` folder as a `.csv` file."
   ]
  },
  {
   "cell_type": "code",
   "execution_count": null,
   "metadata": {},
   "outputs": [],
   "source": [
    "# Save data to data_clean folder assuming we are in the src directory\n",
    "df.to_csv('./data_clean/en-wikipedia_traffic_200712-202108.csv', index = False)"
   ]
  },
  {
   "cell_type": "markdown",
   "metadata": {},
   "source": [
    "# Part 3: Analysis"
   ]
  },
  {
   "cell_type": "code",
   "execution_count": null,
   "metadata": {},
   "outputs": [],
   "source": [
    "df['date'] = pd.to_datetime(df['year'] * 100 + df['month'], format = '%Y%m')\n",
    "df.replace(0, np.nan, inplace = True)\n",
    "# df[df['date'] == max(df['date']) & pd.notnull(df['pagecounts_all_views'])]['pagecounts_all_views']\n",
    "\n",
    "plt.figure(figsize = (25, 10))\n",
    "plt.plot(df['date'], df['pagecounts_all_views'], label = 'All - Legacy', linestyle = '--', c = 'black')\n",
    "plt.plot(df['date'], df['pageviews_all_views'], label = 'All', linestyle = '-', c = 'black')\n",
    "plt.xlim(min(df['date']), max(df['date']))\n",
    "plt.xlabel('Date', fontsize = 12)\n",
    "plt.ylabel('Page Views', fontsize = 12)\n",
    "plt.title('Page Visits on English Wikipedia Over Time', fontsize = 16)\n",
    "plt.legend()"
   ]
  },
  {
   "cell_type": "code",
   "execution_count": null,
   "metadata": {},
   "outputs": [],
   "source": [
    "# Last date in the series has a major drop off in views\n",
    "max_date = max(df.loc[pd.notnull(df['pagecounts_all_views'])]['date'])\n",
    "df.loc[df['date'] == max_date, ['pagecounts_all_views', 'pagecounts_desktop_views', 'pagecounts_mobile_views']] = np.nan\n",
    "\n",
    "plt.figure(figsize = (25, 10))\n",
    "plt.plot(df['date'], df['pagecounts_all_views'], label = 'All - Legacy', linestyle = '--', c = 'black')\n",
    "plt.plot(df['date'], df['pageviews_all_views'], label = 'All', linestyle = '-', c = 'black')\n",
    "plt.plot(df['date'], df['pagecounts_desktop_views'], label = 'Main site - Legacy', linestyle = '--', c = 'forestgreen')\n",
    "plt.plot(df['date'], df['pageviews_desktop_views'], label = 'Main site', linestyle = '-', c = 'forestgreen')\n",
    "plt.plot(df['date'], df['pagecounts_mobile_views'], label = 'Mobile - Legacy', linestyle = '--', c = 'cornflowerblue')\n",
    "plt.plot(df['date'], df['pageviews_mobile_views'], label = 'Mobile', linestyle = '-', c = 'cornflowerblue')\n",
    "plt.xlim(min(df['date']), max(df['date']))\n",
    "plt.ylim(0, np.max(df['pagecounts_all_views']) + 1000000)\n",
    "plt.xlabel('Date', fontsize = 12)\n",
    "plt.ylabel('Page Views', fontsize = 12)\n",
    "plt.title('Page Visits on English Wikipedia Over Time', fontsize = 16)\n",
    "plt.legend()"
   ]
  },
  {
   "cell_type": "code",
   "execution_count": null,
   "metadata": {},
   "outputs": [],
   "source": [
    "plt.figure(figsize = (18, 8))\n",
    "plt.plot(df['date'], df['pagecounts_desktop_views'], linestyle = '--', c = 'forestgreen')\n",
    "plt.plot(df['date'], df['pageviews_desktop_views'], label = 'Main site', linestyle = '-', c = 'forestgreen')\n",
    "plt.plot(df['date'], df['pagecounts_mobile_views'], linestyle = '--', c = 'royalblue')\n",
    "plt.plot(df['date'], df['pageviews_mobile_views'], label = 'Mobile', linestyle = '-', c = 'royalblue')\n",
    "plt.plot(df['date'], df['pagecounts_all_views'], linestyle = '--', c = 'black')\n",
    "plt.plot(df['date'], df['pageviews_all_views'], label = 'All', linestyle = '-', c = 'black')\n",
    "plt.xlim(min(df['date']), max(df['date']))\n",
    "plt.ylim(0, (np.max(df['pagecounts_all_views']) * 1.05))\n",
    "plt.xlabel('May 2015: A new page view definition took effect, which eliminated all crawler traffic. Solid lines mark new definition.', fontsize = 12, loc = 'left')\n",
    "plt.ylabel('Page Views', fontsize = 15)\n",
    "plt.title('Page Visits on English Wikipedia Over Time (in billions)', fontsize = 20)\n",
    "plt.legend(fontsize = 12)\n",
    "plt.savefig('./results/wikipedia_page_vists_2008-2021')"
   ]
  }
 ],
 "metadata": {
  "kernelspec": {
   "display_name": "Python 3",
   "language": "python",
   "name": "python3"
  },
  "language_info": {
   "codemirror_mode": {
    "name": "ipython",
    "version": 3
   },
   "file_extension": ".py",
   "mimetype": "text/x-python",
   "name": "python",
   "nbconvert_exporter": "python",
   "pygments_lexer": "ipython3",
   "version": "3.8.5"
  }
 },
 "nbformat": 4,
 "nbformat_minor": 4
}
